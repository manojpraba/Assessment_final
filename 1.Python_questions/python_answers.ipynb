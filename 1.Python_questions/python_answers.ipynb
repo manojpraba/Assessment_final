{
 "cells": [
  {
   "cell_type": "markdown",
   "metadata": {},
   "source": [
    "# 1.You have an input dictionary given,\n",
    "\n",
    "## input_dict = {\"abc\":{\"def\":{\"ghi\":{\"jkl\":{\"mno\":{\"pqr\":{\"stu\":{\"vwx\":{\"yz\":\"you are finally here !!!\"}}}}}}}}}"
   ]
  },
  {
   "cell_type": "code",
   "execution_count": 2,
   "metadata": {},
   "outputs": [
    {
     "name": "stdout",
     "output_type": "stream",
     "text": [
      "{'abc': ['abc'], 'def': ['def', 'abc'], 'ghi': ['ghi', 'def', 'abc'], 'jkl': ['jkl', 'ghi', 'def', 'abc'], 'mno': ['mno', 'jkl', 'ghi', 'def', 'abc'], 'pqr': ['pqr', 'mno', 'jkl', 'ghi', 'def', 'abc'], 'stu': ['stu', 'pqr', 'mno', 'jkl', 'ghi', 'def', 'abc'], 'vwx': ['vwx', 'stu', 'pqr', 'mno', 'jkl', 'ghi', 'def', 'abc'], 'yz': 'you are finally here !!!'}\n"
     ]
    }
   ],
   "source": [
    "def flatten_dict(input_dict, prefix=[], output={}):\n",
    "    for key, value in input_dict.items():\n",
    "        if isinstance(value, dict):\n",
    "            output[key] = [key] + prefix\n",
    "            flatten_dict(value, [key] + prefix, output)\n",
    "        else:\n",
    "            output[key] = value\n",
    "    return output\n",
    "\n",
    "input_dict = {\n",
    "    \"abc\": {\n",
    "        \"def\": {\n",
    "            \"ghi\": {\n",
    "                \"jkl\": {\n",
    "                    \"mno\": {\n",
    "                        \"pqr\": {\n",
    "                            \"stu\": {\n",
    "                                \"vwx\": {\n",
    "                                    \"yz\": \"you are finally here !!!\"\n",
    "                                }\n",
    "                            }\n",
    "                        }\n",
    "                    }\n",
    "                }\n",
    "            }\n",
    "        }\n",
    "    }\n",
    "}\n",
    "\n",
    "output = flatten_dict(input_dict)\n",
    "print(output)"
   ]
  },
  {
   "cell_type": "markdown",
   "metadata": {},
   "source": [
    "### 2.Given an array of length ‘N’, where each element denotes the position of a stall. Now you have ‘N’ stalls and an integer ‘K’ which denotes the number of horses that are mad. To prevent the horses from hurting each other, you need to assign the horses to the stalls, such that the minimum distance between any two of them is as large as possible. Return the largest minimum distance.\n",
    "\n",
    "\n",
    "### array: 1,2,4,8,9  &  k=3\n",
    "\n",
    "### O/P: 3"
   ]
  },
  {
   "cell_type": "code",
   "execution_count": 3,
   "metadata": {},
   "outputs": [
    {
     "name": "stdout",
     "output_type": "stream",
     "text": [
      "3\n"
     ]
    }
   ],
   "source": [
    "def is_valid_distance(stalls, k, distance):\n",
    "    horses = 1\n",
    "    last_stall = stalls[0]\n",
    "    for stall in stalls[1:]:\n",
    "        if stall - last_stall >= distance:\n",
    "            horses += 1\n",
    "            last_stall = stall\n",
    "    return horses >= k\n",
    "\n",
    "def max_min_distance(stalls, k):\n",
    "    stalls.sort()\n",
    "    low = 1\n",
    "    high = stalls[-1] - stalls[0]\n",
    "    result = 0\n",
    "    while low <= high:\n",
    "        mid = low + (high - low) // 2\n",
    "        if is_valid_distance(stalls, k, mid):\n",
    "            result = mid\n",
    "            low = mid + 1\n",
    "        else:\n",
    "            high = mid - 1\n",
    "    return result\n",
    "\n",
    "# Example usage\n",
    "stalls = [1, 2, 4, 8, 9]\n",
    "k = 3\n",
    "print(max_min_distance(stalls, k))  # Output: 3\n"
   ]
  },
  {
   "cell_type": "markdown",
   "metadata": {},
   "source": [
    "### 3. Mr. Karthiken works in a door mat manufacturing company. One day, he designed a new door mat with the following specifications:\n",
    "\n",
    "              a) Mat size must be N X M. (N is an odd natural number, and M is 3 times N.)\n",
    "              b) The design should have ‘WELCOME’ written in the center.\n",
    "              c) The design pattern should only use |, . and – characters.\n",
    "\n",
    "    Sample Design is given above image, Write a python code for this."
   ]
  },
  {
   "cell_type": "code",
   "execution_count": 5,
   "metadata": {},
   "outputs": [
    {
     "name": "stdout",
     "output_type": "stream",
     "text": [
      "---------.|.---------\n",
      "------.|..|..|.------\n",
      "---.|..|..|..|..|.---\n",
      "-------WELCOME-------\n",
      "---.|..|..|..|..|.---\n",
      "------.|..|..|.------\n",
      "---------.|.---------\n"
     ]
    }
   ],
   "source": [
    "def print_door_mat(N, M):\n",
    "    \n",
    "    for i in range(N//2):\n",
    "        pattern = \".|.\" * (2*i + 1)\n",
    "        print(pattern.center(M, '-'))\n",
    "\n",
    "    \n",
    "    print('WELCOME'.center(M, '-'))\n",
    "\n",
    "    \n",
    "    for i in range(N//2-1, -1, -1):\n",
    "        pattern = \".|.\" * (2*i + 1)\n",
    "        print(pattern.center(M, '-'))\n",
    "\n",
    "\n",
    "N = 7  \n",
    "M = 21  \n",
    "print_door_mat(N, M)\n"
   ]
  },
  {
   "cell_type": "markdown",
   "metadata": {},
   "source": [
    "### 4.Given an array nums of n integers, return an array of all the unique quadruplets [nums[a], nums[b], nums[c], nums[d]] such that:\n",
    "\n",
    "   a) 0 <= a, b, c, d < n\n",
    "   b) a, b, c, and d are distinct.\n",
    "   c) nums[a] + nums[b] + nums[c] + nums[d] == target"
   ]
  },
  {
   "cell_type": "code",
   "execution_count": 6,
   "metadata": {},
   "outputs": [
    {
     "name": "stdout",
     "output_type": "stream",
     "text": [
      "[[-2, -1, 1, 2], [-2, 0, 0, 2], [-1, 0, 0, 1]]\n"
     ]
    }
   ],
   "source": [
    "def four_sum(nums, target):\n",
    "    nums.sort()\n",
    "    result = []\n",
    "    n = len(nums)\n",
    "    \n",
    "    for i in range(n - 3):\n",
    "        if i > 0 and nums[i] == nums[i - 1]:\n",
    "            continue\n",
    "        for j in range(i + 1, n - 2):\n",
    "            if j > i + 1 and nums[j] == nums[j - 1]:\n",
    "                continue\n",
    "            left = j + 1\n",
    "            right = n - 1\n",
    "            while left < right:\n",
    "                total = nums[i] + nums[j] + nums[left] + nums[right]\n",
    "                if total == target:\n",
    "                    result.append([nums[i], nums[j], nums[left], nums[right]])\n",
    "                    while left < right and nums[left] == nums[left + 1]:\n",
    "                        left += 1\n",
    "                    while left < right and nums[right] == nums[right - 1]:\n",
    "                        right -= 1\n",
    "                    left += 1\n",
    "                    right -= 1\n",
    "                elif total < target:\n",
    "                    left += 1\n",
    "                else:\n",
    "                    right -= 1\n",
    "    \n",
    "    return result\n",
    "\n",
    "# Example usage:\n",
    "nums = [1, 0, -1, 0, -2, 2]\n",
    "target = 0\n",
    "print(four_sum(nums, target))\n"
   ]
  },
  {
   "cell_type": "code",
   "execution_count": null,
   "metadata": {},
   "outputs": [],
   "source": []
  }
 ],
 "metadata": {
  "kernelspec": {
   "display_name": "base",
   "language": "python",
   "name": "python3"
  },
  "language_info": {
   "codemirror_mode": {
    "name": "ipython",
    "version": 3
   },
   "file_extension": ".py",
   "mimetype": "text/x-python",
   "name": "python",
   "nbconvert_exporter": "python",
   "pygments_lexer": "ipython3",
   "version": "3.10.9"
  }
 },
 "nbformat": 4,
 "nbformat_minor": 2
}
