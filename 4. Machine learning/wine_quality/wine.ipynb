{
 "cells": [
  {
   "cell_type": "markdown",
   "metadata": {},
   "source": [
    "## Train and fine tune a decision tree using the wine dataset by following the following steps:-\n",
    "\n",
    "  1. Use load_wine() to generate wine dataset\n",
    "  2. Split the dataset into train and test  dataset\n",
    "  3. Use random search CV to hyperparameter tune the Decision Tree\n",
    "  4. Try to achieve an accuracy of at least 85%"
   ]
  },
  {
   "cell_type": "code",
   "execution_count": 1,
   "metadata": {},
   "outputs": [],
   "source": [
    "from sklearn.datasets import load_wine\n",
    "from sklearn.model_selection import train_test_split, RandomizedSearchCV\n",
    "from sklearn.tree import DecisionTreeClassifier\n",
    "from scipy.stats import randint"
   ]
  },
  {
   "cell_type": "code",
   "execution_count": 2,
   "metadata": {},
   "outputs": [],
   "source": [
    "# Step 1: Load the wine dataset\n",
    "wine = load_wine()\n",
    "X = wine.data\n",
    "y = wine.target"
   ]
  },
  {
   "cell_type": "code",
   "execution_count": 5,
   "metadata": {},
   "outputs": [],
   "source": [
    "# Step 2: Split the dataset into train and test sets\n",
    "X_train, X_test, y_train, y_test = train_test_split(X, y, test_size=0.2, random_state=42)"
   ]
  },
  {
   "cell_type": "code",
   "execution_count": 6,
   "metadata": {},
   "outputs": [],
   "source": [
    "# Step 3: Define the parameter grid for RandomizedSearchCV\n",
    "param_dist = {\n",
    "    'criterion': ['gini', 'entropy'],\n",
    "    'max_depth': randint(1, 20),\n",
    "    'min_samples_split': randint(2, 20),\n",
    "    'min_samples_leaf': randint(1, 20),\n",
    "    'max_features': ['auto', 'sqrt', 'log2', None]\n",
    "}"
   ]
  },
  {
   "cell_type": "code",
   "execution_count": 8,
   "metadata": {},
   "outputs": [
    {
     "name": "stdout",
     "output_type": "stream",
     "text": [
      "Fitting 5 folds for each of 10 candidates, totalling 50 fits\n",
      "Accuracy on test set: 0.9166666666666666\n"
     ]
    }
   ],
   "source": [
    "dt = DecisionTreeClassifier()\n",
    "\n",
    "random_search = RandomizedSearchCV(dt, param_distributions=param_dist, n_iter=10, cv=5, verbose=2, random_state=42, n_jobs=-1)\n",
    "random_search.fit(X_train, y_train)\n",
    "\n",
    "# Step 6: Evaluate the tuned model on the test set\n",
    "accuracy = random_search.best_estimator_.score(X_test, y_test)\n",
    "print(\"Accuracy on test set:\", accuracy)"
   ]
  },
  {
   "cell_type": "markdown",
   "metadata": {},
   "source": [
    "## Grow a random forest using the following steps:-\n",
    "\n",
    "  1. Continuing the previous question, create 10 subsets of the training dataset. You can use the ShuffleSplit                class for it.\n",
    "  2. Train 1 decision tree on each subset, using the best hyperparameter values found in the previous question.\n",
    "  3. Evaluate all the trees on the test dataset. Are they performing better than the tree created in the previous question?"
   ]
  },
  {
   "cell_type": "code",
   "execution_count": 9,
   "metadata": {},
   "outputs": [],
   "source": [
    "from sklearn.model_selection import ShuffleSplit\n",
    "from sklearn.metrics import accuracy_score"
   ]
  },
  {
   "cell_type": "code",
   "execution_count": 10,
   "metadata": {},
   "outputs": [],
   "source": [
    "# Step 1: Create 10 subsets of the training dataset using ShuffleSplit\n",
    "rs = ShuffleSplit(n_splits=10, test_size=0.2, random_state=42)\n",
    "subsets = []\n",
    "\n",
    "for train_index, _ in rs.split(X_train):\n",
    "    X_subset, y_subset = X_train[train_index], y_train[train_index]\n",
    "    subsets.append((X_subset, y_subset))"
   ]
  },
  {
   "cell_type": "code",
   "execution_count": 12,
   "metadata": {},
   "outputs": [],
   "source": [
    "# Step 2: Train 1 decision tree on each subset using the best hyperparameters\n",
    "trees = []\n",
    "\n",
    "for X_subset, y_subset in subsets:\n",
    "    dt = DecisionTreeClassifier(**random_search.best_params_)\n",
    "    dt.fit(X_subset, y_subset)\n",
    "    trees.append(dt)"
   ]
  },
  {
   "cell_type": "code",
   "execution_count": 16,
   "metadata": {},
   "outputs": [
    {
     "name": "stdout",
     "output_type": "stream",
     "text": [
      "accuracy is  0.9722222222222222\n",
      "accuracy is  0.9166666666666666\n",
      "accuracy is  0.8611111111111112\n",
      "accuracy is  0.9166666666666666\n",
      "accuracy is  0.9166666666666666\n",
      "accuracy is  0.8888888888888888\n",
      "accuracy is  0.9444444444444444\n",
      "accuracy is  0.9722222222222222\n",
      "accuracy is  0.9444444444444444\n",
      "accuracy is  0.8611111111111112\n"
     ]
    }
   ],
   "source": [
    "# Step 3: Evaluate all the trees on the test dataset\n",
    "tree_accuracies = []\n",
    "\n",
    "for tree in trees:\n",
    "    y_pred = tree.predict(X_test)\n",
    "    accuracy = accuracy_score(y_test, y_pred)\n",
    "    print(\"accuracy is \",accuracy)\n",
    "    tree_accuracies.append(accuracy)"
   ]
  },
  {
   "cell_type": "code",
   "execution_count": 15,
   "metadata": {},
   "outputs": [
    {
     "name": "stdout",
     "output_type": "stream",
     "text": [
      "Average accuracy of the decision trees on the test set: 0.9194444444444443\n",
      "Accuracy of the single decision tree trained in the previous: 0.8611111111111112\n"
     ]
    }
   ],
   "source": [
    "# Compare performance with the decision tree trained in the previous question\n",
    "average_accuracy = sum(tree_accuracies) / len(tree_accuracies)\n",
    "print(\"Average accuracy of the decision trees on the test set:\", average_accuracy)\n",
    "print(\"Accuracy of the single decision tree trained in the previous:\", accuracy)"
   ]
  }
 ],
 "metadata": {
  "kernelspec": {
   "display_name": "base",
   "language": "python",
   "name": "python3"
  },
  "language_info": {
   "codemirror_mode": {
    "name": "ipython",
    "version": 3
   },
   "file_extension": ".py",
   "mimetype": "text/x-python",
   "name": "python",
   "nbconvert_exporter": "python",
   "pygments_lexer": "ipython3",
   "version": "3.10.9"
  }
 },
 "nbformat": 4,
 "nbformat_minor": 2
}
